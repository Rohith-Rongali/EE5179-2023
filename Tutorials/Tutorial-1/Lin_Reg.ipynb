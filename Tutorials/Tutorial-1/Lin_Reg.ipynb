{
  "nbformat": 4,
  "nbformat_minor": 0,
  "metadata": {
    "colab": {
      "provenance": [],
      "include_colab_link": true
    },
    "kernelspec": {
      "name": "python3",
      "display_name": "Python 3"
    },
    "language_info": {
      "name": "python"
    }
  },
  "cells": [
    {
      "cell_type": "markdown",
      "metadata": {
        "id": "view-in-github",
        "colab_type": "text"
      },
      "source": [
        "<a href=\"https://colab.research.google.com/github/Rohith-Rongali/EE5179-2023/blob/main/Tutorials/Tutorial-1/Lin_Reg.ipynb\" target=\"_parent\"><img src=\"https://colab.research.google.com/assets/colab-badge.svg\" alt=\"Open In Colab\"/></a>"
      ]
    },
    {
      "cell_type": "code",
      "metadata": {
        "id": "alrXoCflGKM8"
      },
      "source": [
        "import numpy as np\n",
        "print(np.__version__)\n",
        "import matplotlib.pylab as plt"
      ],
      "execution_count": null,
      "outputs": []
    },
    {
      "cell_type": "markdown",
      "metadata": {
        "id": "UH2Rz-FUW_Bz"
      },
      "source": [
        "# Linear Regression\n",
        "\n",
        "you will train 1D linear regresion model with PyTorch by using data that you created. <br>The model has two parameters: the slope `x` and bias `b`.\n",
        "\n",
        "Model: $ y = wx+b $"
      ]
    },
    {
      "cell_type": "code",
      "metadata": {
        "id": "Cn942jBmad6f"
      },
      "source": [
        "# Create the f(X) with a slope of -3\n",
        "X = np.arange(-3, 3, 0.1)\n",
        "f = -3 * X + 2\n",
        "# Add some noise to f(X) and save it in Y\n",
        "Y = f + 0.5 * np.random.rand(len(X))\n",
        "\n",
        "# Plot the data points\n",
        "\n",
        "plt.plot(X,Y, 'rx', label = 'Y')\n",
        "plt.xlabel('x')\n",
        "plt.ylabel('y')\n",
        "plt.legend()\n",
        "plt.show()"
      ],
      "execution_count": null,
      "outputs": []
    },
    {
      "cell_type": "markdown",
      "metadata": {
        "id": "nQeWM8tWYhjO"
      },
      "source": [
        "**Your Task** (Step 1):  Initialize Model: $w=2,b=-1$\n"
      ]
    },
    {
      "cell_type": "code",
      "metadata": {
        "id": "dBk37YCbVZGc"
      },
      "source": [
        "w=2.0\n",
        "b=-1.0"
      ],
      "execution_count": null,
      "outputs": []
    },
    {
      "cell_type": "markdown",
      "metadata": {
        "id": "i6Kftt22Y1Sd"
      },
      "source": [
        "**Your Task** (Step 2): Define the function <code>forward(x, w, b)</code> makes the prediction as $y=wx+b$"
      ]
    },
    {
      "cell_type": "code",
      "metadata": {
        "id": "JAdXtg_bXzwn"
      },
      "source": [
        "def forward(x,w,b):\n",
        "    # YOUR CODE STARTS HERE\n",
        "\n",
        "    # YOUR CODE ends HERE\n",
        "    return yhat\n",
        "\n",
        "# test: Try to make the prediction for multiple inputs: x1=1.0 and x2=2.0\n",
        "x = np.array([[1.0], [2.0]])\n",
        "yhat = forward(x,w,b)\n",
        "print(\"The prediction: \", yhat)\n",
        "\n",
        "assert yhat[0] == 1 # at x=1, predicted value should be 1\n",
        "assert yhat[1] == 3 # at x=2, predicted value should be 3"
      ],
      "execution_count": null,
      "outputs": []
    },
    {
      "cell_type": "markdown",
      "metadata": {
        "id": "MwtGRZ3qbc2A"
      },
      "source": [
        "**Your Task** (Step 3): Define the cost or criterion function using MSE (Mean Square Error):"
      ]
    },
    {
      "cell_type": "code",
      "metadata": {
        "id": "0rVUdfI5ZUQJ"
      },
      "source": [
        "# Create the MSE function for evaluate the result.\n",
        "def criterion(yhat, y):\n",
        "    # YOUR CODE STARTS HERE\n",
        "\n",
        "    # YOUR CODE ends HERE\n",
        "    return loss\n",
        "\n",
        "# test cases:\n",
        "y_true = np.array([3, -0.5, 2, 7])\n",
        "y_pred = np.array([2.5, 0.0, 2, 8])\n",
        "loss = criterion(y_pred,y_true)\n",
        "\n",
        "assert loss.item() == 0.375"
      ],
      "execution_count": null,
      "outputs": []
    },
    {
      "cell_type": "markdown",
      "metadata": {
        "id": "AMiO1VvwVfxD"
      },
      "source": [
        "**Your Task** (Step 4): Train your model"
      ]
    },
    {
      "cell_type": "code",
      "metadata": {
        "id": "MaGbytD3bpZ2"
      },
      "source": [
        "# Define a function for train the model\n",
        "LOSS = []\n",
        "def train_model(iter,w_init,b_init):\n",
        "    w= w_init\n",
        "    b= b_init\n",
        "    for epoch in range(iter):\n",
        "\n",
        "        # YOUR CODE STARTS HERE\n",
        "        # make the prediction as we learned in the last lab\n",
        "        # input data: X\n",
        "\n",
        "\n",
        "        # calculate the loss between prediction Yhat and GT Y\n",
        "\n",
        "\n",
        "        # store the loss into list\n",
        "\n",
        "\n",
        "        # backward pass: compute gradient of the loss with respect to all the learnable parameters\n",
        "\n",
        "\n",
        "        # updata parameters with learnign rate alpha=0.01\n",
        "        # w = w - alpha * w_grad\n",
        "        # b = b - alpha * b_grad\n",
        "\n",
        "        # YOUR CODE ENDS HERE\n",
        "    return w,b\n",
        "\n"
      ],
      "execution_count": null,
      "outputs": []
    },
    {
      "cell_type": "code",
      "metadata": {
        "id": "HjvCElREb2Om"
      },
      "source": [
        "w_final,b_final = train_model(1000,w,b)\n",
        "\n",
        "# Plot the loss for each iteration\n",
        "\n",
        "plt.plot([x for x in LOSS])\n",
        "plt.tight_layout()\n",
        "plt.xlabel(\"Epoch/Iterations\")\n",
        "plt.ylabel(\"Cost\")"
      ],
      "execution_count": null,
      "outputs": []
    },
    {
      "cell_type": "code",
      "metadata": {
        "id": "7ynYtt_NWaxI"
      },
      "source": [
        "# Plot the data points\n",
        "plt.plot(X, Y, 'rx', label = 'Y')\n",
        "y_pred = forward(X,w_final,b_final)\n",
        "plt.plot(X, y_pred, label = 'f')\n",
        "\n",
        "plt.xlabel('x')\n",
        "plt.ylabel('y')\n",
        "plt.legend()\n",
        "plt.show()"
      ],
      "execution_count": null,
      "outputs": []
    },
    {
      "cell_type": "code",
      "metadata": {
        "id": "CtqT7njtdI3n"
      },
      "source": [
        "print(f'True parameters: w=-3 and b=2')\n",
        "print(f'Predicted parameters: w={w_final} and b={b_final}')"
      ],
      "execution_count": null,
      "outputs": []
    },
    {
      "cell_type": "code",
      "metadata": {
        "id": "gqPgAz-jdti7"
      },
      "source": [],
      "execution_count": null,
      "outputs": []
    }
  ]
}